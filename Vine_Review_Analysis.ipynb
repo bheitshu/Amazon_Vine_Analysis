{
  "nbformat": 4,
  "nbformat_minor": 0,
  "metadata": {
    "colab": {
      "name": "Vine_Review_Analysis.ipynb",
      "provenance": [],
      "authorship_tag": "ABX9TyMioGDGbuIg15ds3oCtYXY0",
      "include_colab_link": true
    },
    "kernelspec": {
      "display_name": "Python 3",
      "name": "python3"
    }
  },
  "cells": [
    {
      "cell_type": "markdown",
      "metadata": {
        "id": "view-in-github",
        "colab_type": "text"
      },
      "source": [
        "<a href=\"https://colab.research.google.com/github/bheitshu/Amazon_Vine_Analysis/blob/main/Vine_Review_Analysis.ipynb\" target=\"_parent\"><img src=\"https://colab.research.google.com/assets/colab-badge.svg\" alt=\"Open In Colab\"/></a>"
      ]
    },
    {
      "cell_type": "code",
      "metadata": {
        "colab": {
          "base_uri": "https://localhost:8080/"
        },
        "id": "73qgq7o242vm",
        "outputId": "561efbe7-07e3-4335-bd57-93abdc5de892"
      },
      "source": [
        "import os\n",
        "# Find the latest version of spark 2.0  from http://www-us.apache.org/dist/spark/ and enter as the spark version\n",
        "# For example:\n",
        "# spark_version = 'spark-3.0.0'\n",
        "spark_version = 'spark-3.0.2'\n",
        "os.environ['SPARK_VERSION']=spark_version\n",
        "\n",
        "# Install Spark and Java\n",
        "!apt-get update\n",
        "!apt-get install openjdk-11-jdk-headless -qq > /dev/null\n",
        "!wget -q http://www-us.apache.org/dist/spark/$SPARK_VERSION/$SPARK_VERSION-bin-hadoop2.7.tgz\n",
        "!tar xf $SPARK_VERSION-bin-hadoop2.7.tgz\n",
        "!pip install -q findspark\n",
        "\n",
        "# Set Environment Variables\n",
        "import os\n",
        "os.environ[\"JAVA_HOME\"] = \"/usr/lib/jvm/java-11-openjdk-amd64\"\n",
        "os.environ[\"SPARK_HOME\"] = f\"/content/{spark_version}-bin-hadoop2.7\"\n",
        "\n",
        "# Start a SparkSession\n",
        "import findspark\n",
        "findspark.init()"
      ],
      "execution_count": 1,
      "outputs": [
        {
          "output_type": "stream",
          "text": [
            "\r0% [Working]\r            \rGet:1 https://cloud.r-project.org/bin/linux/ubuntu bionic-cran40/ InRelease [3,626 B]\n",
            "Get:2 http://security.ubuntu.com/ubuntu bionic-security InRelease [88.7 kB]\n",
            "Ign:3 https://developer.download.nvidia.com/compute/cuda/repos/ubuntu1804/x86_64  InRelease\n",
            "Ign:4 https://developer.download.nvidia.com/compute/machine-learning/repos/ubuntu1804/x86_64  InRelease\n",
            "Hit:5 https://developer.download.nvidia.com/compute/cuda/repos/ubuntu1804/x86_64  Release\n",
            "Hit:6 https://developer.download.nvidia.com/compute/machine-learning/repos/ubuntu1804/x86_64  Release\n",
            "Hit:7 http://archive.ubuntu.com/ubuntu bionic InRelease\n",
            "Get:8 http://ppa.launchpad.net/c2d4u.team/c2d4u4.0+/ubuntu bionic InRelease [15.9 kB]\n",
            "Get:9 http://archive.ubuntu.com/ubuntu bionic-updates InRelease [88.7 kB]\n",
            "Hit:10 http://ppa.launchpad.net/cran/libgit2/ubuntu bionic InRelease\n",
            "Get:12 http://archive.ubuntu.com/ubuntu bionic-backports InRelease [74.6 kB]\n",
            "Hit:13 http://ppa.launchpad.net/deadsnakes/ppa/ubuntu bionic InRelease\n",
            "Hit:15 http://ppa.launchpad.net/graphics-drivers/ppa/ubuntu bionic InRelease\n",
            "Get:16 http://security.ubuntu.com/ubuntu bionic-security/universe amd64 Packages [1,392 kB]\n",
            "Get:17 http://security.ubuntu.com/ubuntu bionic-security/main amd64 Packages [1,963 kB]\n",
            "Get:18 http://ppa.launchpad.net/c2d4u.team/c2d4u4.0+/ubuntu bionic/main Sources [1,739 kB]\n",
            "Get:19 http://archive.ubuntu.com/ubuntu bionic-updates/universe amd64 Packages [2,163 kB]\n",
            "Get:20 http://archive.ubuntu.com/ubuntu bionic-updates/main amd64 Packages [2,395 kB]\n",
            "Get:21 http://ppa.launchpad.net/c2d4u.team/c2d4u4.0+/ubuntu bionic/main amd64 Packages [889 kB]\n",
            "Fetched 10.8 MB in 4s (2,905 kB/s)\n",
            "Reading package lists... Done\n"
          ],
          "name": "stdout"
        }
      ]
    },
    {
      "cell_type": "code",
      "metadata": {
        "colab": {
          "base_uri": "https://localhost:8080/"
        },
        "id": "KM__SCGi5MxS",
        "outputId": "92504218-5225-4925-8387-27f11b0e60c4"
      },
      "source": [
        "# Download the Postgres driver that will allow Spark to interact with Postgres.\n",
        "!wget https://jdbc.postgresql.org/download/postgresql-42.2.16.jar"
      ],
      "execution_count": 2,
      "outputs": [
        {
          "output_type": "stream",
          "text": [
            "--2021-03-01 21:22:19--  https://jdbc.postgresql.org/download/postgresql-42.2.16.jar\n",
            "Resolving jdbc.postgresql.org (jdbc.postgresql.org)... 72.32.157.228, 2001:4800:3e1:1::228\n",
            "Connecting to jdbc.postgresql.org (jdbc.postgresql.org)|72.32.157.228|:443... connected.\n",
            "HTTP request sent, awaiting response... 200 OK\n",
            "Length: 1002883 (979K) [application/java-archive]\n",
            "Saving to: ‘postgresql-42.2.16.jar’\n",
            "\n",
            "postgresql-42.2.16. 100%[===================>] 979.38K  --.-KB/s    in 0.09s   \n",
            "\n",
            "2021-03-01 21:22:19 (11.2 MB/s) - ‘postgresql-42.2.16.jar’ saved [1002883/1002883]\n",
            "\n"
          ],
          "name": "stdout"
        }
      ]
    },
    {
      "cell_type": "code",
      "metadata": {
        "id": "Q7VCA50x5Pmm"
      },
      "source": [
        "from pyspark.sql import SparkSession\n",
        "spark = SparkSession.builder.appName(\"BigData-Challenge\").config(\"spark.driver.extraClassPath\",\"/content/postgresql-42.2.16.jar\").getOrCreate()"
      ],
      "execution_count": 3,
      "outputs": []
    },
    {
      "cell_type": "code",
      "metadata": {
        "colab": {
          "base_uri": "https://localhost:8080/"
        },
        "id": "9J900ERd5SzC",
        "outputId": "d3d4e94c-545b-47ed-e63a-204bf4bbc965"
      },
      "source": [
        "from pyspark import SparkFiles\n",
        "url = \"https://s3.amazonaws.com/amazon-reviews-pds/tsv/amazon_reviews_us_Shoes_v1_00.tsv.gz\"\n",
        "spark.sparkContext.addFile(url)\n",
        "df = spark.read.option(\"encoding\", \"UTF-8\").csv(SparkFiles.get(\"\"), sep=\"\\t\", header=True, inferSchema=True)\n",
        "df.show()"
      ],
      "execution_count": 4,
      "outputs": [
        {
          "output_type": "stream",
          "text": [
            "+-----------+-----------+--------------+----------+--------------+--------------------+----------------+-----------+-------------+-----------+----+-----------------+--------------------+--------------------+-----------+\n",
            "|marketplace|customer_id|     review_id|product_id|product_parent|       product_title|product_category|star_rating|helpful_votes|total_votes|vine|verified_purchase|     review_headline|         review_body|review_date|\n",
            "+-----------+-----------+--------------+----------+--------------+--------------------+----------------+-----------+-------------+-----------+----+-----------------+--------------------+--------------------+-----------+\n",
            "|         US|   18069663|R3P2HIOQCIN5ZU|B000XB31C0|     265024781|Minnetonka Men's ...|           Shoes|          1|            0|          0|   N|                Y|                   .|Do not buy: reall...| 2015-08-31|\n",
            "|         US|   16251825|R12VVR0WH5Q24V|B00CFYZH5W|     259035853|Teva Men's Pajaro...|           Shoes|          5|            0|          0|   N|                Y|     super flip flop|provides great cu...| 2015-08-31|\n",
            "|         US|   20381037| RNCCKB6TV5EEF|B00S8JNN3Q|     666066660|Anne Klein Perfec...|           Shoes|          4|            0|          0|   N|                Y| Great clutch purse!|It's perfect if y...| 2015-08-31|\n",
            "|         US|     108364|R2NZXYIVCGB13W|B00XFBPOQG|     448483263|adidas Men's 10K ...|           Shoes|          5|            0|          6|   N|                Y|              Badass|  Getting what u see| 2015-08-31|\n",
            "|         US|   45449350|R2EQ1TG9IT3OEQ|B00SW64Y9W|       7853171|OverBling Sneaker...|           Shoes|          3|            0|          0|   N|                Y|         Three Stars|               small| 2015-08-31|\n",
            "|         US|   19324665|R1WXA9JSC2H1U1|B011F9E6LI|      14311457|MESSI 15.3 FG/AG ...|           Shoes|          5|            1|          1|   N|                Y|          Five Stars|My 13 year old so...| 2015-08-31|\n",
            "|         US|   50073594|R12ENYLFGGNWRV|B00HAUP1OI|     264821602|Hoka One One Men'...|           Shoes|          5|            1|          1|   N|                Y|Finally, some cus...|Ok, I have been s...| 2015-08-31|\n",
            "|         US|   21706057|R2R07E5PNXEUO5|B00L1RKOKW|     767118055|Olukai Nohea Mesh...|           Shoes|          4|            0|          0|   N|                Y|good deal, but ha...|I went a full siz...| 2015-08-31|\n",
            "|         US|   13708216|R27BA52AKWMWN3|B005WA9MSE|     813856438|Carolina Mens 6\" ...|           Shoes|          5|            0|          0|   N|                Y|... would have to...|I would have to s...| 2015-08-31|\n",
            "|         US|   40542649| RLF8DOID2KD5O|B00BEYQI5C|     661491213|Alegria Women's S...|           Shoes|          3|            0|          0|   N|                Y|           Too small|The size is misle...| 2015-08-31|\n",
            "|         US|   13409446|R369CEXHXHC6NQ|B00EYAFTCQ|     332158165|Naturalizer Women...|           Shoes|          5|            0|          0|   N|                Y|          Five Stars|These shoes are v...| 2015-08-31|\n",
            "|         US|    9451727|R171PPIJXFONVI|B00I0QHY32|      49243908|Forever Link Wome...|           Shoes|          5|            0|          0|   N|                Y|          Five Stars|I love these sand...| 2015-08-31|\n",
            "|         US|     193731|R2JDNM8F2P06FU|B010FZZKYA|     161497902|Versace Collectio...|           Shoes|          4|            1|          1|   N|                Y|          Four Stars|Good quality shoe...| 2015-08-31|\n",
            "|         US|   34798634|R2W977FO4M97XT|B00V8B30K2|     759958795|Twisted Girl's Ch...|           Shoes|          5|            0|          1|   N|                Y|Good shoes, comfo...|My daughter reall...| 2015-08-31|\n",
            "|         US|   37235551|R3AM24QPLI28UY|B00LAVB1TC|     910150896|Travel Smart Hand...|           Shoes|          2|            1|          2|   N|                Y|           Two Stars|         It's okay .| 2015-08-31|\n",
            "|         US|   27081399| REDVXSFYVNT5T|B003C1P8B0|     762792587|Saucony Originals...|           Shoes|          5|            0|          0|   N|                Y|    Love these shoes|Love these shoes!...| 2015-08-31|\n",
            "|         US|     120678|R14AIIK7D6ENDZ|B000W3UL7W|     123724495|Dr. Marten's Wome...|           Shoes|          5|            0|          0|   N|                Y|          Five Stars|                Good| 2015-08-31|\n",
            "|         US|   22272389|R3B1NURKMCVAL1|B00LX65PQO|     848850234|Skechers Performa...|           Shoes|          3|            2|          2|   N|                Y|         Three Stars|I like the go wal...| 2015-08-31|\n",
            "|         US|   19584241|R14Q1GZGV10IMX|B00BEE7N3I|     211637196|Hi-Tec Kid's Nepa...|           Shoes|          4|            0|          0|   N|                Y|          Four Stars|Kids love them fo...| 2015-08-31|\n",
            "|         US|   12334573| R9BHBB06QD6TM|B008NCHMBW|     138572112|Foot Sox Original...|           Shoes|          1|            2|          2|   N|                Y|Tissue paper is t...|Tissue paper is t...| 2015-08-31|\n",
            "+-----------+-----------+--------------+----------+--------------+--------------------+----------------+-----------+-------------+-----------+----+-----------------+--------------------+--------------------+-----------+\n",
            "only showing top 20 rows\n",
            "\n"
          ],
          "name": "stdout"
        }
      ]
    },
    {
      "cell_type": "code",
      "metadata": {
        "id": "E0_7lTBi5WsU"
      },
      "source": [
        "from pyspark.sql.functions import to_date\n",
        "# Read in the Review dataset as a DataFrame\n"
      ],
      "execution_count": 5,
      "outputs": []
    },
    {
      "cell_type": "code",
      "metadata": {
        "colab": {
          "base_uri": "https://localhost:8080/"
        },
        "id": "NDnIEynMqt_d",
        "outputId": "ada70603-60fd-4bf9-a5e6-40f9d6751847"
      },
      "source": [
        "# Create the vine_table. DataFrame\n",
        "vine_df = df.select([\"review_id\",\"star_rating\",\"helpful_votes\", \"total_votes\",\"vine\", \"verified_purchase\"])\n",
        "vine_df.show(20)"
      ],
      "execution_count": 6,
      "outputs": [
        {
          "output_type": "stream",
          "text": [
            "+--------------+-----------+-------------+-----------+----+-----------------+\n",
            "|     review_id|star_rating|helpful_votes|total_votes|vine|verified_purchase|\n",
            "+--------------+-----------+-------------+-----------+----+-----------------+\n",
            "|R3P2HIOQCIN5ZU|          1|            0|          0|   N|                Y|\n",
            "|R12VVR0WH5Q24V|          5|            0|          0|   N|                Y|\n",
            "| RNCCKB6TV5EEF|          4|            0|          0|   N|                Y|\n",
            "|R2NZXYIVCGB13W|          5|            0|          6|   N|                Y|\n",
            "|R2EQ1TG9IT3OEQ|          3|            0|          0|   N|                Y|\n",
            "|R1WXA9JSC2H1U1|          5|            1|          1|   N|                Y|\n",
            "|R12ENYLFGGNWRV|          5|            1|          1|   N|                Y|\n",
            "|R2R07E5PNXEUO5|          4|            0|          0|   N|                Y|\n",
            "|R27BA52AKWMWN3|          5|            0|          0|   N|                Y|\n",
            "| RLF8DOID2KD5O|          3|            0|          0|   N|                Y|\n",
            "|R369CEXHXHC6NQ|          5|            0|          0|   N|                Y|\n",
            "|R171PPIJXFONVI|          5|            0|          0|   N|                Y|\n",
            "|R2JDNM8F2P06FU|          4|            1|          1|   N|                Y|\n",
            "|R2W977FO4M97XT|          5|            0|          1|   N|                Y|\n",
            "|R3AM24QPLI28UY|          2|            1|          2|   N|                Y|\n",
            "| REDVXSFYVNT5T|          5|            0|          0|   N|                Y|\n",
            "|R14AIIK7D6ENDZ|          5|            0|          0|   N|                Y|\n",
            "|R3B1NURKMCVAL1|          3|            2|          2|   N|                Y|\n",
            "|R14Q1GZGV10IMX|          4|            0|          0|   N|                Y|\n",
            "| R9BHBB06QD6TM|          1|            2|          2|   N|                Y|\n",
            "+--------------+-----------+-------------+-----------+----+-----------------+\n",
            "only showing top 20 rows\n",
            "\n"
          ],
          "name": "stdout"
        }
      ]
    },
    {
      "cell_type": "code",
      "metadata": {
        "colab": {
          "base_uri": "https://localhost:8080/"
        },
        "id": "nMWJJmQxrTvm",
        "outputId": "cb7f4790-b777-4652-ce52-a1316043049d"
      },
      "source": [
        "vine_df_filtered = vine_df.filter(\"total_votes >= 20\")\n",
        "vine_df_filtered.show(30)"
      ],
      "execution_count": 44,
      "outputs": [
        {
          "output_type": "stream",
          "text": [
            "+--------------+-----------+-------------+-----------+----+-----------------+\n",
            "|     review_id|star_rating|helpful_votes|total_votes|vine|verified_purchase|\n",
            "+--------------+-----------+-------------+-----------+----+-----------------+\n",
            "|R37F42INKX7L9K|          5|           45|         49|   N|                Y|\n",
            "|R2EHKYNEP8WVSR|          5|           25|         25|   N|                Y|\n",
            "| RXOS7BHID0UHL|          5|           16|         27|   N|                N|\n",
            "|R33HHGFPB403GM|          5|           19|         21|   N|                Y|\n",
            "| RY9O9XNLP464N|          2|           19|         22|   N|                Y|\n",
            "|R2VP11C28JAEZF|          5|           30|         30|   N|                Y|\n",
            "|R1TXGR1HA2M3P3|          5|           28|         29|   N|                Y|\n",
            "| R6OD85TMEMHQQ|          5|           28|         28|   N|                Y|\n",
            "|R1G4PAJXP3FTN7|          2|           43|         51|   N|                Y|\n",
            "|R2P2S8UGUMCOLX|          5|           21|         22|   N|                Y|\n",
            "| RBTQKXGJ9RP7C|          1|           33|         33|   N|                Y|\n",
            "|R342L93CXGDZO5|          2|           73|         76|   N|                Y|\n",
            "|R31Z97KFD4HMNF|          3|           23|         26|   N|                Y|\n",
            "|R2NDB7EQLYK87A|          5|           44|         46|   N|                Y|\n",
            "|R1C0W0OSBCVXC2|          1|           45|         46|   N|                Y|\n",
            "|R154Q41ID7FTFC|          5|           24|         26|   N|                Y|\n",
            "|R3GFX9ZNZ0T3TA|          1|           35|         35|   N|                Y|\n",
            "|R2H8MH0N2IZKMY|          5|           22|         23|   N|                Y|\n",
            "|R1MYE8WQ3812L8|          5|           17|         20|   N|                Y|\n",
            "| RYSL8MU2858GB|          5|           71|         73|   N|                Y|\n",
            "|R2AA1L5ELMHC99|          3|          156|        159|   N|                Y|\n",
            "|R1NAX488QFLAMK|          4|           26|         27|   N|                Y|\n",
            "|R1LKHB01N26RHL|          4|           27|         30|   N|                Y|\n",
            "|R15ANY3PXYBDIG|          5|           22|         23|   N|                N|\n",
            "|R1SFMA1XAAUIVG|          5|           37|         38|   N|                Y|\n",
            "| RQN5511LDI736|          5|           53|         59|   N|                Y|\n",
            "|R24CNRZ8PBOV6R|          5|           41|         45|   N|                Y|\n",
            "|R3SCQZGVCXXA8V|          5|           68|         75|   N|                Y|\n",
            "|R10JQ538S0XCEU|          5|           59|         67|   N|                Y|\n",
            "|R1SSAYFE7GM22N|          3|           20|         21|   N|                Y|\n",
            "+--------------+-----------+-------------+-----------+----+-----------------+\n",
            "only showing top 30 rows\n",
            "\n"
          ],
          "name": "stdout"
        }
      ]
    },
    {
      "cell_type": "code",
      "metadata": {
        "colab": {
          "base_uri": "https://localhost:8080/"
        },
        "id": "r7M60025z_ix",
        "outputId": "ec3b9b9d-f264-4b63-f0f1-2fd86d8abc6e"
      },
      "source": [
        "vine_df_filtered_2 = vine_df_filtered.filter(\"total_votes/helpful_votes >= 0.5\")\n",
        "vine_df_filtered_2.show(20)"
      ],
      "execution_count": 27,
      "outputs": [
        {
          "output_type": "stream",
          "text": [
            "+--------------+-----------+-------------+-----------+----+-----------------+\n",
            "|     review_id|star_rating|helpful_votes|total_votes|vine|verified_purchase|\n",
            "+--------------+-----------+-------------+-----------+----+-----------------+\n",
            "|R37F42INKX7L9K|          5|           45|         49|   N|                Y|\n",
            "|R2EHKYNEP8WVSR|          5|           25|         25|   N|                Y|\n",
            "| RXOS7BHID0UHL|          5|           16|         27|   N|                N|\n",
            "|R33HHGFPB403GM|          5|           19|         21|   N|                Y|\n",
            "| RY9O9XNLP464N|          2|           19|         22|   N|                Y|\n",
            "|R2VP11C28JAEZF|          5|           30|         30|   N|                Y|\n",
            "|R1TXGR1HA2M3P3|          5|           28|         29|   N|                Y|\n",
            "| R6OD85TMEMHQQ|          5|           28|         28|   N|                Y|\n",
            "|R1G4PAJXP3FTN7|          2|           43|         51|   N|                Y|\n",
            "|R2P2S8UGUMCOLX|          5|           21|         22|   N|                Y|\n",
            "| RBTQKXGJ9RP7C|          1|           33|         33|   N|                Y|\n",
            "|R342L93CXGDZO5|          2|           73|         76|   N|                Y|\n",
            "|R31Z97KFD4HMNF|          3|           23|         26|   N|                Y|\n",
            "|R2NDB7EQLYK87A|          5|           44|         46|   N|                Y|\n",
            "|R1C0W0OSBCVXC2|          1|           45|         46|   N|                Y|\n",
            "|R154Q41ID7FTFC|          5|           24|         26|   N|                Y|\n",
            "|R3GFX9ZNZ0T3TA|          1|           35|         35|   N|                Y|\n",
            "|R2H8MH0N2IZKMY|          5|           22|         23|   N|                Y|\n",
            "|R1MYE8WQ3812L8|          5|           17|         20|   N|                Y|\n",
            "| RYSL8MU2858GB|          5|           71|         73|   N|                Y|\n",
            "+--------------+-----------+-------------+-----------+----+-----------------+\n",
            "only showing top 20 rows\n",
            "\n"
          ],
          "name": "stdout"
        }
      ]
    },
    {
      "cell_type": "code",
      "metadata": {
        "colab": {
          "base_uri": "https://localhost:8080/"
        },
        "id": "FIG-5qA64M0i",
        "outputId": "1cfe3f75-cade-4302-e294-8ffd94675c10"
      },
      "source": [
        "vine_df_filtered_3 = vine_df_filtered_2.filter(\"vine == 'Y'\")\n",
        "vine_df_filtered_3.show(20)"
      ],
      "execution_count": 29,
      "outputs": [
        {
          "output_type": "stream",
          "text": [
            "+--------------+-----------+-------------+-----------+----+-----------------+\n",
            "|     review_id|star_rating|helpful_votes|total_votes|vine|verified_purchase|\n",
            "+--------------+-----------+-------------+-----------+----+-----------------+\n",
            "|R2N45ZKRRZS856|          5|           21|         22|   Y|                N|\n",
            "| R5OMLMK13A8NS|          5|           34|         38|   Y|                N|\n",
            "|R2MPEQ4SPTEQNS|          4|          180|        184|   Y|                N|\n",
            "| RIR0D3KJ0CQ31|          4|           21|         21|   Y|                N|\n",
            "|R1SPWJDHUWWC5E|          5|           88|         98|   Y|                N|\n",
            "|R1X6M5XA3FT98W|          5|           24|         26|   Y|                N|\n",
            "|R37VCW6HA0Z72T|          5|           27|         28|   Y|                N|\n",
            "|R2XRYNV2SY3ZKL|          5|           53|         56|   Y|                N|\n",
            "|R1Y93KWKAX1P5N|          2|           26|         31|   Y|                N|\n",
            "|R2QVTDYYLTP8SL|          5|           21|         24|   Y|                N|\n",
            "|R3KOK2SH39BZU1|          3|           94|         96|   Y|                N|\n",
            "|R2VOM73EHLPXJW|          4|           35|         38|   Y|                N|\n",
            "|R3SEZS7BZEC69Y|          5|           16|         20|   Y|                N|\n",
            "|R1MJ5J272V19O6|          4|           49|         51|   Y|                N|\n",
            "|R3A7BQX1JDKOM5|          4|           20|         20|   Y|                N|\n",
            "|R1307JMPUEQXOW|          5|           31|         35|   Y|                N|\n",
            "| RXV0SDXE5B15T|          2|           39|         42|   Y|                N|\n",
            "| RBMDYE7LUH9FI|          5|           26|         32|   Y|                N|\n",
            "|R1N4W961QV59BV|          5|           25|         34|   Y|                N|\n",
            "|R11XKHFS4KQS3Z|          4|          205|        211|   Y|                N|\n",
            "+--------------+-----------+-------------+-----------+----+-----------------+\n",
            "only showing top 20 rows\n",
            "\n"
          ],
          "name": "stdout"
        }
      ]
    },
    {
      "cell_type": "code",
      "metadata": {
        "colab": {
          "base_uri": "https://localhost:8080/"
        },
        "id": "p7hVsxIm5Ral",
        "outputId": "0c6ae9c4-edec-4b08-edf5-1177fd82c831"
      },
      "source": [
        "vine_df_filtered_4 = vine_df_filtered_2.filter(\"vine == 'N'\")\n",
        "vine_df_filtered_4.show(20)"
      ],
      "execution_count": 30,
      "outputs": [
        {
          "output_type": "stream",
          "text": [
            "+--------------+-----------+-------------+-----------+----+-----------------+\n",
            "|     review_id|star_rating|helpful_votes|total_votes|vine|verified_purchase|\n",
            "+--------------+-----------+-------------+-----------+----+-----------------+\n",
            "|R37F42INKX7L9K|          5|           45|         49|   N|                Y|\n",
            "|R2EHKYNEP8WVSR|          5|           25|         25|   N|                Y|\n",
            "| RXOS7BHID0UHL|          5|           16|         27|   N|                N|\n",
            "|R33HHGFPB403GM|          5|           19|         21|   N|                Y|\n",
            "| RY9O9XNLP464N|          2|           19|         22|   N|                Y|\n",
            "|R2VP11C28JAEZF|          5|           30|         30|   N|                Y|\n",
            "|R1TXGR1HA2M3P3|          5|           28|         29|   N|                Y|\n",
            "| R6OD85TMEMHQQ|          5|           28|         28|   N|                Y|\n",
            "|R1G4PAJXP3FTN7|          2|           43|         51|   N|                Y|\n",
            "|R2P2S8UGUMCOLX|          5|           21|         22|   N|                Y|\n",
            "| RBTQKXGJ9RP7C|          1|           33|         33|   N|                Y|\n",
            "|R342L93CXGDZO5|          2|           73|         76|   N|                Y|\n",
            "|R31Z97KFD4HMNF|          3|           23|         26|   N|                Y|\n",
            "|R2NDB7EQLYK87A|          5|           44|         46|   N|                Y|\n",
            "|R1C0W0OSBCVXC2|          1|           45|         46|   N|                Y|\n",
            "|R154Q41ID7FTFC|          5|           24|         26|   N|                Y|\n",
            "|R3GFX9ZNZ0T3TA|          1|           35|         35|   N|                Y|\n",
            "|R2H8MH0N2IZKMY|          5|           22|         23|   N|                Y|\n",
            "|R1MYE8WQ3812L8|          5|           17|         20|   N|                Y|\n",
            "| RYSL8MU2858GB|          5|           71|         73|   N|                Y|\n",
            "+--------------+-----------+-------------+-----------+----+-----------------+\n",
            "only showing top 20 rows\n",
            "\n"
          ],
          "name": "stdout"
        }
      ]
    },
    {
      "cell_type": "code",
      "metadata": {
        "colab": {
          "base_uri": "https://localhost:8080/"
        },
        "id": "Q-GWITs97vEx",
        "outputId": "f2e14384-80a2-472f-a313-9ed7bf4dc46d"
      },
      "source": [
        "vine_df.count()"
      ],
      "execution_count": 34,
      "outputs": [
        {
          "output_type": "execute_result",
          "data": {
            "text/plain": [
              "4366916"
            ]
          },
          "metadata": {
            "tags": []
          },
          "execution_count": 34
        }
      ]
    },
    {
      "cell_type": "code",
      "metadata": {
        "colab": {
          "base_uri": "https://localhost:8080/"
        },
        "id": "G2oTHTUS9B-K",
        "outputId": "97b77730-8973-4f0d-fab9-1f644bb5cb4a"
      },
      "source": [
        "# filter for only columns with 20 or more total votes \n",
        "five_star_df = vine_df.filter('star_rating >= 5')\n",
        "five_star_df.show(truncate=False)"
      ],
      "execution_count": 48,
      "outputs": [
        {
          "output_type": "stream",
          "text": [
            "+--------------+-----------+-------------+-----------+----+-----------------+\n",
            "|review_id     |star_rating|helpful_votes|total_votes|vine|verified_purchase|\n",
            "+--------------+-----------+-------------+-----------+----+-----------------+\n",
            "|R12VVR0WH5Q24V|5          |0            |0          |N   |Y                |\n",
            "|R2NZXYIVCGB13W|5          |0            |6          |N   |Y                |\n",
            "|R1WXA9JSC2H1U1|5          |1            |1          |N   |Y                |\n",
            "|R12ENYLFGGNWRV|5          |1            |1          |N   |Y                |\n",
            "|R27BA52AKWMWN3|5          |0            |0          |N   |Y                |\n",
            "|R369CEXHXHC6NQ|5          |0            |0          |N   |Y                |\n",
            "|R171PPIJXFONVI|5          |0            |0          |N   |Y                |\n",
            "|R2W977FO4M97XT|5          |0            |1          |N   |Y                |\n",
            "|REDVXSFYVNT5T |5          |0            |0          |N   |Y                |\n",
            "|R14AIIK7D6ENDZ|5          |0            |0          |N   |Y                |\n",
            "|R32I1BMKWJ463H|5          |0            |0          |N   |Y                |\n",
            "|RW4TDN6I1NTAN |5          |0            |0          |N   |Y                |\n",
            "|R132P1Y7J9WJAJ|5          |0            |0          |N   |Y                |\n",
            "|R2IVR3NBCUR6UA|5          |0            |0          |N   |Y                |\n",
            "|R38C58B3W36A2P|5          |0            |0          |N   |Y                |\n",
            "|R3VTIAWM3Y1435|5          |0            |0          |N   |Y                |\n",
            "|R3ITTCICRV7972|5          |0            |0          |N   |Y                |\n",
            "|R2JW9KWGF7N7X8|5          |0            |1          |N   |Y                |\n",
            "|R1SEH88OC9KBZ |5          |2            |2          |N   |Y                |\n",
            "|R2QS32P5QL3H8U|5          |1            |1          |N   |Y                |\n",
            "+--------------+-----------+-------------+-----------+----+-----------------+\n",
            "only showing top 20 rows\n",
            "\n"
          ],
          "name": "stdout"
        }
      ]
    },
    {
      "cell_type": "code",
      "metadata": {
        "colab": {
          "base_uri": "https://localhost:8080/"
        },
        "id": "O6BkMLsQBXYE",
        "outputId": "30c5e005-bc01-415f-de3e-8cb20de264a8"
      },
      "source": [
        "five_star_df.count()"
      ],
      "execution_count": 50,
      "outputs": [
        {
          "output_type": "execute_result",
          "data": {
            "text/plain": [
              "2639935"
            ]
          },
          "metadata": {
            "tags": []
          },
          "execution_count": 50
        }
      ]
    },
    {
      "cell_type": "code",
      "metadata": {
        "colab": {
          "base_uri": "https://localhost:8080/"
        },
        "id": "dCML9fEKBixH",
        "outputId": "534d9236-f369-4ef1-f80a-08ff2ae9ec2d"
      },
      "source": [
        "five_star_paid_df = five_star_df.filter(\"vine == 'Y'\")\n",
        "five_star_paid_df.show(20)"
      ],
      "execution_count": 51,
      "outputs": [
        {
          "output_type": "stream",
          "text": [
            "+--------------+-----------+-------------+-----------+----+-----------------+\n",
            "|     review_id|star_rating|helpful_votes|total_votes|vine|verified_purchase|\n",
            "+--------------+-----------+-------------+-----------+----+-----------------+\n",
            "| RISSSMBIV0J9B|          5|            5|          6|   Y|                N|\n",
            "|R3J67UUFB5N1JM|          5|            0|          0|   Y|                N|\n",
            "|R391PM81J6G5JH|          5|            1|          1|   Y|                N|\n",
            "| RLFBSXQA2JUHR|          5|            0|          0|   Y|                N|\n",
            "|R1P9EMSVXTU8QQ|          5|            0|          0|   Y|                N|\n",
            "|R3BQSPJ27GKZDK|          5|           10|         14|   Y|                N|\n",
            "| RAFKWU1V19FXT|          5|            4|          4|   Y|                N|\n",
            "|R1XB4YP0M7YQXD|          5|            1|          1|   Y|                N|\n",
            "|R1KGCJI9MAXQRC|          5|            0|          0|   Y|                N|\n",
            "|R2GP7RXE3BFJI9|          5|            1|          1|   Y|                N|\n",
            "| RRI85XFSGHF36|          5|            4|          4|   Y|                N|\n",
            "|R235DDV0NBZGQ4|          5|            0|          1|   Y|                N|\n",
            "| RNZAS0HQHECT4|          5|            1|          1|   Y|                N|\n",
            "|R1OQIL720KJYCF|          5|            7|         10|   Y|                N|\n",
            "|R18U1Q29BQLK2S|          5|            0|          0|   Y|                N|\n",
            "| RD32LH2RC0FBY|          5|            1|          2|   Y|                N|\n",
            "|R1YBTN9XK4B846|          5|            3|          3|   Y|                N|\n",
            "|R3SSS3LOQ3AQPM|          5|            0|          2|   Y|                N|\n",
            "| RODZ4JQU8XJ7B|          5|            3|          3|   Y|                N|\n",
            "|R133N8XGUFELPO|          5|            1|          2|   Y|                N|\n",
            "+--------------+-----------+-------------+-----------+----+-----------------+\n",
            "only showing top 20 rows\n",
            "\n"
          ],
          "name": "stdout"
        }
      ]
    },
    {
      "cell_type": "code",
      "metadata": {
        "colab": {
          "base_uri": "https://localhost:8080/"
        },
        "id": "-0YLU-sxB6sk",
        "outputId": "a73a46c3-9ec5-48b1-e650-e35e1d4f8ba1"
      },
      "source": [
        "five_star_paid_df.count()"
      ],
      "execution_count": 52,
      "outputs": [
        {
          "output_type": "execute_result",
          "data": {
            "text/plain": [
              "462"
            ]
          },
          "metadata": {
            "tags": []
          },
          "execution_count": 52
        }
      ]
    },
    {
      "cell_type": "code",
      "metadata": {
        "colab": {
          "base_uri": "https://localhost:8080/"
        },
        "id": "odlGvA-rCE2X",
        "outputId": "562ef50b-a3ad-4e2c-f951-81a42d6c16e3"
      },
      "source": [
        "five_star_unpaid_df = five_star_df.filter(\"vine == 'N'\")\n",
        "five_star_unpaid_df.show(20)"
      ],
      "execution_count": 53,
      "outputs": [
        {
          "output_type": "stream",
          "text": [
            "+--------------+-----------+-------------+-----------+----+-----------------+\n",
            "|     review_id|star_rating|helpful_votes|total_votes|vine|verified_purchase|\n",
            "+--------------+-----------+-------------+-----------+----+-----------------+\n",
            "|R12VVR0WH5Q24V|          5|            0|          0|   N|                Y|\n",
            "|R2NZXYIVCGB13W|          5|            0|          6|   N|                Y|\n",
            "|R1WXA9JSC2H1U1|          5|            1|          1|   N|                Y|\n",
            "|R12ENYLFGGNWRV|          5|            1|          1|   N|                Y|\n",
            "|R27BA52AKWMWN3|          5|            0|          0|   N|                Y|\n",
            "|R369CEXHXHC6NQ|          5|            0|          0|   N|                Y|\n",
            "|R171PPIJXFONVI|          5|            0|          0|   N|                Y|\n",
            "|R2W977FO4M97XT|          5|            0|          1|   N|                Y|\n",
            "| REDVXSFYVNT5T|          5|            0|          0|   N|                Y|\n",
            "|R14AIIK7D6ENDZ|          5|            0|          0|   N|                Y|\n",
            "|R32I1BMKWJ463H|          5|            0|          0|   N|                Y|\n",
            "| RW4TDN6I1NTAN|          5|            0|          0|   N|                Y|\n",
            "|R132P1Y7J9WJAJ|          5|            0|          0|   N|                Y|\n",
            "|R2IVR3NBCUR6UA|          5|            0|          0|   N|                Y|\n",
            "|R38C58B3W36A2P|          5|            0|          0|   N|                Y|\n",
            "|R3VTIAWM3Y1435|          5|            0|          0|   N|                Y|\n",
            "|R3ITTCICRV7972|          5|            0|          0|   N|                Y|\n",
            "|R2JW9KWGF7N7X8|          5|            0|          1|   N|                Y|\n",
            "| R1SEH88OC9KBZ|          5|            2|          2|   N|                Y|\n",
            "|R2QS32P5QL3H8U|          5|            1|          1|   N|                Y|\n",
            "+--------------+-----------+-------------+-----------+----+-----------------+\n",
            "only showing top 20 rows\n",
            "\n"
          ],
          "name": "stdout"
        }
      ]
    },
    {
      "cell_type": "code",
      "metadata": {
        "colab": {
          "base_uri": "https://localhost:8080/"
        },
        "id": "jp6Lzc5rCKkV",
        "outputId": "72693d35-4882-426e-dd57-f5ce0cecfb92"
      },
      "source": [
        "five_star_unpaid_df.count()"
      ],
      "execution_count": 54,
      "outputs": [
        {
          "output_type": "execute_result",
          "data": {
            "text/plain": [
              "2639473"
            ]
          },
          "metadata": {
            "tags": []
          },
          "execution_count": 54
        }
      ]
    },
    {
      "cell_type": "code",
      "metadata": {
        "colab": {
          "base_uri": "https://localhost:8080/"
        },
        "id": "RTQB6uWFF0jW",
        "outputId": "883ea996-f900-4b08-95ac-bb02e3b2a071"
      },
      "source": [
        "five_star_unpaid_df.count()/five_star_df.count()"
      ],
      "execution_count": 58,
      "outputs": [
        {
          "output_type": "execute_result",
          "data": {
            "text/plain": [
              "0.9998249956911818"
            ]
          },
          "metadata": {
            "tags": []
          },
          "execution_count": 58
        }
      ]
    },
    {
      "cell_type": "code",
      "metadata": {
        "colab": {
          "base_uri": "https://localhost:8080/"
        },
        "id": "mFJtQxe6HHqM",
        "outputId": "3f9c5cd8-f105-4d9a-90d4-d558e8416b99"
      },
      "source": [
        "five_star_paid_df.count()/five_star_df.count()"
      ],
      "execution_count": 59,
      "outputs": [
        {
          "output_type": "execute_result",
          "data": {
            "text/plain": [
              "0.00017500430881820954"
            ]
          },
          "metadata": {
            "tags": []
          },
          "execution_count": 59
        }
      ]
    }
  ]
}